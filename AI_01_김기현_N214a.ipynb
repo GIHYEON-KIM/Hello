{
  "nbformat": 4,
  "nbformat_minor": 0,
  "metadata": {
    "kernelspec": {
      "display_name": "Python 3",
      "language": "python",
      "name": "python3"
    },
    "language_info": {
      "codemirror_mode": {
        "name": "ipython",
        "version": 3
      },
      "file_extension": ".py",
      "mimetype": "text/x-python",
      "name": "python",
      "nbconvert_exporter": "python",
      "pygments_lexer": "ipython3",
      "version": "3.8.3"
    },
    "toc": {
      "base_numbering": 1,
      "nav_menu": {},
      "number_sections": false,
      "sideBar": true,
      "skip_h1_title": false,
      "title_cell": "Table of Contents",
      "title_sidebar": "Contents",
      "toc_cell": false,
      "toc_position": {
        "height": "calc(100% - 180px)",
        "left": "10px",
        "top": "150px",
        "width": "307.2px"
      },
      "toc_section_display": true,
      "toc_window_display": true
    },
    "colab": {
      "name": "AI_01_김기현_N214a.ipynb",
      "provenance": [],
      "toc_visible": true,
      "include_colab_link": true
    }
  },
  "cells": [
    {
      "cell_type": "markdown",
      "metadata": {
        "id": "view-in-github",
        "colab_type": "text"
      },
      "source": [
        "<a href=\"https://colab.research.google.com/github/GIHYEON-KIM/Hello/blob/main/AI_01_%EA%B9%80%EA%B8%B0%ED%98%84_N214a.ipynb\" target=\"_parent\"><img src=\"https://colab.research.google.com/assets/colab-badge.svg\" alt=\"Open In Colab\"/></a>"
      ]
    },
    {
      "cell_type": "markdown",
      "metadata": {
        "id": "Z-zgNHQhoe8L"
      },
      "source": [
        "<img align=\"right\" src=\"https://ds-cs-images.s3.ap-northeast-2.amazonaws.com/Codestates_Fulllogo_Color.png\" width=100>\n",
        "\n",
        "## *DATA SCIENCE / SECTION 2 / SPRINT 1 / NOTE 4*\n",
        "\n",
        "# 📝 Assignment\n",
        "---"
      ]
    },
    {
      "cell_type": "markdown",
      "metadata": {
        "id": "OSOq9EC6oe8f"
      },
      "source": [
        "# Logistic Regression\n",
        "\n",
        "이번에는 [**Cardiovascular Disease dataset**](https://www.kaggle.com/sulianova/cardiovascular-disease-dataset) 데이터셋을 사용해 봅시다. 데이터에 대한 설명을 캐글 페이지에서 잘 살펴보시고 과제를 진행해 주세요!"
      ]
    },
    {
      "cell_type": "markdown",
      "metadata": {
        "id": "36R-vqowoe8i"
      },
      "source": [
        "### 1) EDA를 수행합시다"
      ]
    },
    {
      "cell_type": "markdown",
      "metadata": {
        "id": "7PeY19Avoe8j"
      },
      "source": [
        "- gender : 1 - 여성, 2 - 남성\n",
        "- cholesterol : 1 - 정상, 2 - 평균 이상, 3 - 평균보다 매우 높음\n",
        "- gluc : 1 - 정상, 2 - 평균 이상, 3 - 평균보다 매우 높음\n",
        "- ap_hi : 최대 혈압\n",
        "- ap_lo : 최소 혈압"
      ]
    },
    {
      "cell_type": "code",
      "metadata": {
        "id": "pmRz2ijToe8l"
      },
      "source": [
        "import pandas as pd\n",
        "import numpy as np\n",
        "import seaborn as sns\n",
        "import matplotlib.pyplot as plt\n",
        "\n",
        "# jupyter notebook 내 그래프를 바로 그리기 위한 설정\n",
        "%matplotlib inline\n",
        "\n",
        "# unicode minus를 사용하지 않기 위한 설정 (minus 깨짐현상 방지)\n",
        "plt.rcParams['axes.unicode_minus'] = False\n",
        "# 한글 깨짐 방지\n",
        "plt.rcParams['font.family'] = 'Malgun Gothic'"
      ],
      "execution_count": null,
      "outputs": []
    },
    {
      "cell_type": "code",
      "metadata": {
        "id": "TKFyjnyioe8p",
        "outputId": "eae0ea68-9dd1-4d94-e6f2-5875d689a1a5"
      },
      "source": [
        "df = pd.read_csv('./data/cardio_train.csv', sep = ';')\n",
        "print(df.shape)\n",
        "df.head()"
      ],
      "execution_count": null,
      "outputs": [
        {
          "output_type": "stream",
          "text": [
            "(70000, 13)\n"
          ],
          "name": "stdout"
        },
        {
          "output_type": "execute_result",
          "data": {
            "text/html": [
              "<div>\n",
              "<style scoped>\n",
              "    .dataframe tbody tr th:only-of-type {\n",
              "        vertical-align: middle;\n",
              "    }\n",
              "\n",
              "    .dataframe tbody tr th {\n",
              "        vertical-align: top;\n",
              "    }\n",
              "\n",
              "    .dataframe thead th {\n",
              "        text-align: right;\n",
              "    }\n",
              "</style>\n",
              "<table border=\"1\" class=\"dataframe\">\n",
              "  <thead>\n",
              "    <tr style=\"text-align: right;\">\n",
              "      <th></th>\n",
              "      <th>id</th>\n",
              "      <th>age</th>\n",
              "      <th>gender</th>\n",
              "      <th>height</th>\n",
              "      <th>weight</th>\n",
              "      <th>ap_hi</th>\n",
              "      <th>ap_lo</th>\n",
              "      <th>cholesterol</th>\n",
              "      <th>gluc</th>\n",
              "      <th>smoke</th>\n",
              "      <th>alco</th>\n",
              "      <th>active</th>\n",
              "      <th>cardio</th>\n",
              "    </tr>\n",
              "  </thead>\n",
              "  <tbody>\n",
              "    <tr>\n",
              "      <th>0</th>\n",
              "      <td>0</td>\n",
              "      <td>18393</td>\n",
              "      <td>2</td>\n",
              "      <td>168</td>\n",
              "      <td>62.0</td>\n",
              "      <td>110</td>\n",
              "      <td>80</td>\n",
              "      <td>1</td>\n",
              "      <td>1</td>\n",
              "      <td>0</td>\n",
              "      <td>0</td>\n",
              "      <td>1</td>\n",
              "      <td>0</td>\n",
              "    </tr>\n",
              "    <tr>\n",
              "      <th>1</th>\n",
              "      <td>1</td>\n",
              "      <td>20228</td>\n",
              "      <td>1</td>\n",
              "      <td>156</td>\n",
              "      <td>85.0</td>\n",
              "      <td>140</td>\n",
              "      <td>90</td>\n",
              "      <td>3</td>\n",
              "      <td>1</td>\n",
              "      <td>0</td>\n",
              "      <td>0</td>\n",
              "      <td>1</td>\n",
              "      <td>1</td>\n",
              "    </tr>\n",
              "    <tr>\n",
              "      <th>2</th>\n",
              "      <td>2</td>\n",
              "      <td>18857</td>\n",
              "      <td>1</td>\n",
              "      <td>165</td>\n",
              "      <td>64.0</td>\n",
              "      <td>130</td>\n",
              "      <td>70</td>\n",
              "      <td>3</td>\n",
              "      <td>1</td>\n",
              "      <td>0</td>\n",
              "      <td>0</td>\n",
              "      <td>0</td>\n",
              "      <td>1</td>\n",
              "    </tr>\n",
              "    <tr>\n",
              "      <th>3</th>\n",
              "      <td>3</td>\n",
              "      <td>17623</td>\n",
              "      <td>2</td>\n",
              "      <td>169</td>\n",
              "      <td>82.0</td>\n",
              "      <td>150</td>\n",
              "      <td>100</td>\n",
              "      <td>1</td>\n",
              "      <td>1</td>\n",
              "      <td>0</td>\n",
              "      <td>0</td>\n",
              "      <td>1</td>\n",
              "      <td>1</td>\n",
              "    </tr>\n",
              "    <tr>\n",
              "      <th>4</th>\n",
              "      <td>4</td>\n",
              "      <td>17474</td>\n",
              "      <td>1</td>\n",
              "      <td>156</td>\n",
              "      <td>56.0</td>\n",
              "      <td>100</td>\n",
              "      <td>60</td>\n",
              "      <td>1</td>\n",
              "      <td>1</td>\n",
              "      <td>0</td>\n",
              "      <td>0</td>\n",
              "      <td>0</td>\n",
              "      <td>0</td>\n",
              "    </tr>\n",
              "  </tbody>\n",
              "</table>\n",
              "</div>"
            ],
            "text/plain": [
              "   id    age  gender  height  weight  ap_hi  ap_lo  cholesterol  gluc  smoke  \\\n",
              "0   0  18393       2     168    62.0    110     80            1     1      0   \n",
              "1   1  20228       1     156    85.0    140     90            3     1      0   \n",
              "2   2  18857       1     165    64.0    130     70            3     1      0   \n",
              "3   3  17623       2     169    82.0    150    100            1     1      0   \n",
              "4   4  17474       1     156    56.0    100     60            1     1      0   \n",
              "\n",
              "   alco  active  cardio  \n",
              "0     0       1       0  \n",
              "1     0       1       1  \n",
              "2     0       0       1  \n",
              "3     0       1       1  \n",
              "4     0       0       0  "
            ]
          },
          "metadata": {
            "tags": []
          },
          "execution_count": 2
        }
      ]
    },
    {
      "cell_type": "code",
      "metadata": {
        "id": "IQoxZN4Roe8s",
        "outputId": "635e3b4a-37d7-4c64-c4cd-24e221e7b52c"
      },
      "source": [
        "df.info()"
      ],
      "execution_count": null,
      "outputs": [
        {
          "output_type": "stream",
          "text": [
            "<class 'pandas.core.frame.DataFrame'>\n",
            "RangeIndex: 70000 entries, 0 to 69999\n",
            "Data columns (total 13 columns):\n",
            " #   Column       Non-Null Count  Dtype  \n",
            "---  ------       --------------  -----  \n",
            " 0   id           70000 non-null  int64  \n",
            " 1   age          70000 non-null  int64  \n",
            " 2   gender       70000 non-null  int64  \n",
            " 3   height       70000 non-null  int64  \n",
            " 4   weight       70000 non-null  float64\n",
            " 5   ap_hi        70000 non-null  int64  \n",
            " 6   ap_lo        70000 non-null  int64  \n",
            " 7   cholesterol  70000 non-null  int64  \n",
            " 8   gluc         70000 non-null  int64  \n",
            " 9   smoke        70000 non-null  int64  \n",
            " 10  alco         70000 non-null  int64  \n",
            " 11  active       70000 non-null  int64  \n",
            " 12  cardio       70000 non-null  int64  \n",
            "dtypes: float64(1), int64(12)\n",
            "memory usage: 6.9 MB\n"
          ],
          "name": "stdout"
        }
      ]
    },
    {
      "cell_type": "markdown",
      "metadata": {
        "id": "f4E_FFKioe8t"
      },
      "source": [
        "#### age를 나이 단위로 변경"
      ]
    },
    {
      "cell_type": "code",
      "metadata": {
        "id": "jwG0wqRYoe8u",
        "outputId": "8267ac47-9104-44d8-c26b-c7d2f89e93de"
      },
      "source": [
        "df = df.copy()\n",
        "df['age'] = df['age']//365\n",
        "df = df.drop('id', axis = 1)\n",
        "print(df.shape)\n",
        "df.head()"
      ],
      "execution_count": null,
      "outputs": [
        {
          "output_type": "stream",
          "text": [
            "(70000, 12)\n"
          ],
          "name": "stdout"
        },
        {
          "output_type": "execute_result",
          "data": {
            "text/html": [
              "<div>\n",
              "<style scoped>\n",
              "    .dataframe tbody tr th:only-of-type {\n",
              "        vertical-align: middle;\n",
              "    }\n",
              "\n",
              "    .dataframe tbody tr th {\n",
              "        vertical-align: top;\n",
              "    }\n",
              "\n",
              "    .dataframe thead th {\n",
              "        text-align: right;\n",
              "    }\n",
              "</style>\n",
              "<table border=\"1\" class=\"dataframe\">\n",
              "  <thead>\n",
              "    <tr style=\"text-align: right;\">\n",
              "      <th></th>\n",
              "      <th>age</th>\n",
              "      <th>gender</th>\n",
              "      <th>height</th>\n",
              "      <th>weight</th>\n",
              "      <th>ap_hi</th>\n",
              "      <th>ap_lo</th>\n",
              "      <th>cholesterol</th>\n",
              "      <th>gluc</th>\n",
              "      <th>smoke</th>\n",
              "      <th>alco</th>\n",
              "      <th>active</th>\n",
              "      <th>cardio</th>\n",
              "    </tr>\n",
              "  </thead>\n",
              "  <tbody>\n",
              "    <tr>\n",
              "      <th>0</th>\n",
              "      <td>50</td>\n",
              "      <td>2</td>\n",
              "      <td>168</td>\n",
              "      <td>62.0</td>\n",
              "      <td>110</td>\n",
              "      <td>80</td>\n",
              "      <td>1</td>\n",
              "      <td>1</td>\n",
              "      <td>0</td>\n",
              "      <td>0</td>\n",
              "      <td>1</td>\n",
              "      <td>0</td>\n",
              "    </tr>\n",
              "    <tr>\n",
              "      <th>1</th>\n",
              "      <td>55</td>\n",
              "      <td>1</td>\n",
              "      <td>156</td>\n",
              "      <td>85.0</td>\n",
              "      <td>140</td>\n",
              "      <td>90</td>\n",
              "      <td>3</td>\n",
              "      <td>1</td>\n",
              "      <td>0</td>\n",
              "      <td>0</td>\n",
              "      <td>1</td>\n",
              "      <td>1</td>\n",
              "    </tr>\n",
              "    <tr>\n",
              "      <th>2</th>\n",
              "      <td>51</td>\n",
              "      <td>1</td>\n",
              "      <td>165</td>\n",
              "      <td>64.0</td>\n",
              "      <td>130</td>\n",
              "      <td>70</td>\n",
              "      <td>3</td>\n",
              "      <td>1</td>\n",
              "      <td>0</td>\n",
              "      <td>0</td>\n",
              "      <td>0</td>\n",
              "      <td>1</td>\n",
              "    </tr>\n",
              "    <tr>\n",
              "      <th>3</th>\n",
              "      <td>48</td>\n",
              "      <td>2</td>\n",
              "      <td>169</td>\n",
              "      <td>82.0</td>\n",
              "      <td>150</td>\n",
              "      <td>100</td>\n",
              "      <td>1</td>\n",
              "      <td>1</td>\n",
              "      <td>0</td>\n",
              "      <td>0</td>\n",
              "      <td>1</td>\n",
              "      <td>1</td>\n",
              "    </tr>\n",
              "    <tr>\n",
              "      <th>4</th>\n",
              "      <td>47</td>\n",
              "      <td>1</td>\n",
              "      <td>156</td>\n",
              "      <td>56.0</td>\n",
              "      <td>100</td>\n",
              "      <td>60</td>\n",
              "      <td>1</td>\n",
              "      <td>1</td>\n",
              "      <td>0</td>\n",
              "      <td>0</td>\n",
              "      <td>0</td>\n",
              "      <td>0</td>\n",
              "    </tr>\n",
              "  </tbody>\n",
              "</table>\n",
              "</div>"
            ],
            "text/plain": [
              "   age  gender  height  weight  ap_hi  ap_lo  cholesterol  gluc  smoke  alco  \\\n",
              "0   50       2     168    62.0    110     80            1     1      0     0   \n",
              "1   55       1     156    85.0    140     90            3     1      0     0   \n",
              "2   51       1     165    64.0    130     70            3     1      0     0   \n",
              "3   48       2     169    82.0    150    100            1     1      0     0   \n",
              "4   47       1     156    56.0    100     60            1     1      0     0   \n",
              "\n",
              "   active  cardio  \n",
              "0       1       0  \n",
              "1       1       1  \n",
              "2       0       1  \n",
              "3       1       1  \n",
              "4       0       0  "
            ]
          },
          "metadata": {
            "tags": []
          },
          "execution_count": 4
        }
      ]
    },
    {
      "cell_type": "markdown",
      "metadata": {
        "id": "HCuA1FfXoe8v"
      },
      "source": [
        "- 아무래도 심혈관 질환이다 보니 나이에 영향을 많이 받을 것이다."
      ]
    },
    {
      "cell_type": "code",
      "metadata": {
        "id": "0ZgJZulPoe8w",
        "outputId": "059e027f-d605-4ec9-d733-e3e340bb848d"
      },
      "source": [
        "sns.countplot(df['age'])"
      ],
      "execution_count": null,
      "outputs": [
        {
          "output_type": "execute_result",
          "data": {
            "text/plain": [
              "<matplotlib.axes._subplots.AxesSubplot at 0x1e255aaaa00>"
            ]
          },
          "metadata": {
            "tags": []
          },
          "execution_count": 5
        },
        {
          "output_type": "display_data",
          "data": {
            "image/png": "[encoded data removed]",
            "text/plain": [
              "<Figure size 432x288 with 1 Axes>"
            ]
          },
          "metadata": {
            "tags": [],
            "needs_background": "light"
          }
        }
      ]
    },
    {
      "cell_type": "code",
      "metadata": {
        "id": "Eqv0nN3Uoe8w",
        "outputId": "a9f08306-6f37-4c86-9045-2cea09ec9dd7"
      },
      "source": [
        "df.corr()"
      ],
      "execution_count": null,
      "outputs": [
        {
          "output_type": "execute_result",
          "data": {
            "text/html": [
              "<div>\n",
              "<style scoped>\n",
              "    .dataframe tbody tr th:only-of-type {\n",
              "        vertical-align: middle;\n",
              "    }\n",
              "\n",
              "    .dataframe tbody tr th {\n",
              "        vertical-align: top;\n",
              "    }\n",
              "\n",
              "    .dataframe thead th {\n",
              "        text-align: right;\n",
              "    }\n",
              "</style>\n",
              "<table border=\"1\" class=\"dataframe\">\n",
              "  <thead>\n",
              "    <tr style=\"text-align: right;\">\n",
              "      <th></th>\n",
              "      <th>age</th>\n",
              "      <th>gender</th>\n",
              "      <th>height</th>\n",
              "      <th>weight</th>\n",
              "      <th>ap_hi</th>\n",
              "      <th>ap_lo</th>\n",
              "      <th>cholesterol</th>\n",
              "      <th>gluc</th>\n",
              "      <th>smoke</th>\n",
              "      <th>alco</th>\n",
              "      <th>active</th>\n",
              "      <th>cardio</th>\n",
              "    </tr>\n",
              "  </thead>\n",
              "  <tbody>\n",
              "    <tr>\n",
              "      <th>age</th>\n",
              "      <td>1.000000</td>\n",
              "      <td>-0.022913</td>\n",
              "      <td>-0.081506</td>\n",
              "      <td>0.053561</td>\n",
              "      <td>0.020854</td>\n",
              "      <td>0.017620</td>\n",
              "      <td>0.154012</td>\n",
              "      <td>0.098388</td>\n",
              "      <td>-0.047649</td>\n",
              "      <td>-0.029756</td>\n",
              "      <td>-0.009998</td>\n",
              "      <td>0.237985</td>\n",
              "    </tr>\n",
              "    <tr>\n",
              "      <th>gender</th>\n",
              "      <td>-0.022913</td>\n",
              "      <td>1.000000</td>\n",
              "      <td>0.499033</td>\n",
              "      <td>0.155406</td>\n",
              "      <td>0.006005</td>\n",
              "      <td>0.015254</td>\n",
              "      <td>-0.035821</td>\n",
              "      <td>-0.020491</td>\n",
              "      <td>0.338135</td>\n",
              "      <td>0.170966</td>\n",
              "      <td>0.005866</td>\n",
              "      <td>0.008109</td>\n",
              "    </tr>\n",
              "    <tr>\n",
              "      <th>height</th>\n",
              "      <td>-0.081506</td>\n",
              "      <td>0.499033</td>\n",
              "      <td>1.000000</td>\n",
              "      <td>0.290968</td>\n",
              "      <td>0.005488</td>\n",
              "      <td>0.006150</td>\n",
              "      <td>-0.050226</td>\n",
              "      <td>-0.018595</td>\n",
              "      <td>0.187989</td>\n",
              "      <td>0.094419</td>\n",
              "      <td>-0.006570</td>\n",
              "      <td>-0.010821</td>\n",
              "    </tr>\n",
              "    <tr>\n",
              "      <th>weight</th>\n",
              "      <td>0.053561</td>\n",
              "      <td>0.155406</td>\n",
              "      <td>0.290968</td>\n",
              "      <td>1.000000</td>\n",
              "      <td>0.030702</td>\n",
              "      <td>0.043710</td>\n",
              "      <td>0.141768</td>\n",
              "      <td>0.106857</td>\n",
              "      <td>0.067780</td>\n",
              "      <td>0.067113</td>\n",
              "      <td>-0.016867</td>\n",
              "      <td>0.181660</td>\n",
              "    </tr>\n",
              "    <tr>\n",
              "      <th>ap_hi</th>\n",
              "      <td>0.020854</td>\n",
              "      <td>0.006005</td>\n",
              "      <td>0.005488</td>\n",
              "      <td>0.030702</td>\n",
              "      <td>1.000000</td>\n",
              "      <td>0.016086</td>\n",
              "      <td>0.023778</td>\n",
              "      <td>0.011841</td>\n",
              "      <td>-0.000922</td>\n",
              "      <td>0.001408</td>\n",
              "      <td>-0.000033</td>\n",
              "      <td>0.054475</td>\n",
              "    </tr>\n",
              "    <tr>\n",
              "      <th>ap_lo</th>\n",
              "      <td>0.017620</td>\n",
              "      <td>0.015254</td>\n",
              "      <td>0.006150</td>\n",
              "      <td>0.043710</td>\n",
              "      <td>0.016086</td>\n",
              "      <td>1.000000</td>\n",
              "      <td>0.024019</td>\n",
              "      <td>0.010806</td>\n",
              "      <td>0.005186</td>\n",
              "      <td>0.010601</td>\n",
              "      <td>0.004780</td>\n",
              "      <td>0.065719</td>\n",
              "    </tr>\n",
              "    <tr>\n",
              "      <th>cholesterol</th>\n",
              "      <td>0.154012</td>\n",
              "      <td>-0.035821</td>\n",
              "      <td>-0.050226</td>\n",
              "      <td>0.141768</td>\n",
              "      <td>0.023778</td>\n",
              "      <td>0.024019</td>\n",
              "      <td>1.000000</td>\n",
              "      <td>0.451578</td>\n",
              "      <td>0.010354</td>\n",
              "      <td>0.035760</td>\n",
              "      <td>0.009911</td>\n",
              "      <td>0.221147</td>\n",
              "    </tr>\n",
              "    <tr>\n",
              "      <th>gluc</th>\n",
              "      <td>0.098388</td>\n",
              "      <td>-0.020491</td>\n",
              "      <td>-0.018595</td>\n",
              "      <td>0.106857</td>\n",
              "      <td>0.011841</td>\n",
              "      <td>0.010806</td>\n",
              "      <td>0.451578</td>\n",
              "      <td>1.000000</td>\n",
              "      <td>-0.004756</td>\n",
              "      <td>0.011246</td>\n",
              "      <td>-0.006770</td>\n",
              "      <td>0.089307</td>\n",
              "    </tr>\n",
              "    <tr>\n",
              "      <th>smoke</th>\n",
              "      <td>-0.047649</td>\n",
              "      <td>0.338135</td>\n",
              "      <td>0.187989</td>\n",
              "      <td>0.067780</td>\n",
              "      <td>-0.000922</td>\n",
              "      <td>0.005186</td>\n",
              "      <td>0.010354</td>\n",
              "      <td>-0.004756</td>\n",
              "      <td>1.000000</td>\n",
              "      <td>0.340094</td>\n",
              "      <td>0.025858</td>\n",
              "      <td>-0.015486</td>\n",
              "    </tr>\n",
              "    <tr>\n",
              "      <th>alco</th>\n",
              "      <td>-0.029756</td>\n",
              "      <td>0.170966</td>\n",
              "      <td>0.094419</td>\n",
              "      <td>0.067113</td>\n",
              "      <td>0.001408</td>\n",
              "      <td>0.010601</td>\n",
              "      <td>0.035760</td>\n",
              "      <td>0.011246</td>\n",
              "      <td>0.340094</td>\n",
              "      <td>1.000000</td>\n",
              "      <td>0.025476</td>\n",
              "      <td>-0.007330</td>\n",
              "    </tr>\n",
              "    <tr>\n",
              "      <th>active</th>\n",
              "      <td>-0.009998</td>\n",
              "      <td>0.005866</td>\n",
              "      <td>-0.006570</td>\n",
              "      <td>-0.016867</td>\n",
              "      <td>-0.000033</td>\n",
              "      <td>0.004780</td>\n",
              "      <td>0.009911</td>\n",
              "      <td>-0.006770</td>\n",
              "      <td>0.025858</td>\n",
              "      <td>0.025476</td>\n",
              "      <td>1.000000</td>\n",
              "      <td>-0.035653</td>\n",
              "    </tr>\n",
              "    <tr>\n",
              "      <th>cardio</th>\n",
              "      <td>0.237985</td>\n",
              "      <td>0.008109</td>\n",
              "      <td>-0.010821</td>\n",
              "      <td>0.181660</td>\n",
              "      <td>0.054475</td>\n",
              "      <td>0.065719</td>\n",
              "      <td>0.221147</td>\n",
              "      <td>0.089307</td>\n",
              "      <td>-0.015486</td>\n",
              "      <td>-0.007330</td>\n",
              "      <td>-0.035653</td>\n",
              "      <td>1.000000</td>\n",
              "    </tr>\n",
              "  </tbody>\n",
              "</table>\n",
              "</div>"
            ],
            "text/plain": [
              "                  age    gender    height    weight     ap_hi     ap_lo  \\\n",
              "age          1.000000 -0.022913 -0.081506  0.053561  0.020854  0.017620   \n",
              "gender      -0.022913  1.000000  0.499033  0.155406  0.006005  0.015254   \n",
              "height      -0.081506  0.499033  1.000000  0.290968  0.005488  0.006150   \n",
              "weight       0.053561  0.155406  0.290968  1.000000  0.030702  0.043710   \n",
              "ap_hi        0.020854  0.006005  0.005488  0.030702  1.000000  0.016086   \n",
              "ap_lo        0.017620  0.015254  0.006150  0.043710  0.016086  1.000000   \n",
              "cholesterol  0.154012 -0.035821 -0.050226  0.141768  0.023778  0.024019   \n",
              "gluc         0.098388 -0.020491 -0.018595  0.106857  0.011841  0.010806   \n",
              "smoke       -0.047649  0.338135  0.187989  0.067780 -0.000922  0.005186   \n",
              "alco        -0.029756  0.170966  0.094419  0.067113  0.001408  0.010601   \n",
              "active      -0.009998  0.005866 -0.006570 -0.016867 -0.000033  0.004780   \n",
              "cardio       0.237985  0.008109 -0.010821  0.181660  0.054475  0.065719   \n",
              "\n",
              "             cholesterol      gluc     smoke      alco    active    cardio  \n",
              "age             0.154012  0.098388 -0.047649 -0.029756 -0.009998  0.237985  \n",
              "gender         -0.035821 -0.020491  0.338135  0.170966  0.005866  0.008109  \n",
              "height         -0.050226 -0.018595  0.187989  0.094419 -0.006570 -0.010821  \n",
              "weight          0.141768  0.106857  0.067780  0.067113 -0.016867  0.181660  \n",
              "ap_hi           0.023778  0.011841 -0.000922  0.001408 -0.000033  0.054475  \n",
              "ap_lo           0.024019  0.010806  0.005186  0.010601  0.004780  0.065719  \n",
              "cholesterol     1.000000  0.451578  0.010354  0.035760  0.009911  0.221147  \n",
              "gluc            0.451578  1.000000 -0.004756  0.011246 -0.006770  0.089307  \n",
              "smoke           0.010354 -0.004756  1.000000  0.340094  0.025858 -0.015486  \n",
              "alco            0.035760  0.011246  0.340094  1.000000  0.025476 -0.007330  \n",
              "active          0.009911 -0.006770  0.025858  0.025476  1.000000 -0.035653  \n",
              "cardio          0.221147  0.089307 -0.015486 -0.007330 -0.035653  1.000000  "
            ]
          },
          "metadata": {
            "tags": []
          },
          "execution_count": 6
        }
      ]
    },
    {
      "cell_type": "markdown",
      "metadata": {
        "id": "ZKbdNhA8oe8x"
      },
      "source": [
        "- 상관관계를 본 결과, 역시 나이가 연관성이 가장 컸고, 콜레스테롤 수치 또한 영향이 컸다.\n",
        "- 그리고 활동성(active)과는 음의 상관관계가 나타났다."
      ]
    },
    {
      "cell_type": "code",
      "metadata": {
        "id": "XQGpJEkxoe8y",
        "outputId": "73053f73-b2db-4519-faeb-cf0cdb2a4e80"
      },
      "source": [
        "df_car = df[df['cardio'] == 1]\n",
        "df_x = df[df['cardio'] == 0]\n",
        "\n",
        "df_car.shape, df_x.shape"
      ],
      "execution_count": null,
      "outputs": [
        {
          "output_type": "execute_result",
          "data": {
            "text/plain": [
              "((34979, 12), (35021, 12))"
            ]
          },
          "metadata": {
            "tags": []
          },
          "execution_count": 7
        }
      ]
    },
    {
      "cell_type": "markdown",
      "metadata": {
        "id": "1MOcJPOJoe80"
      },
      "source": [
        "#### 나이와 심혈관 질환"
      ]
    },
    {
      "cell_type": "code",
      "metadata": {
        "id": "ax0hmIsZoe80",
        "outputId": "78bccce5-8801-4a03-e194-6e32bdee04cc"
      },
      "source": [
        "fig, axes = plt.subplots(1, 2, figsize = (15,7))\n",
        "\n",
        "ax1 = sns.countplot(df_car['age'], ax = axes[0])\n",
        "ax1.set_title('심혈관 질환 O')\n",
        "ax2 = sns.countplot(df_x['age'], ax = axes[1])\n",
        "ax2.set_title ('심혈관 질환 X')"
      ],
      "execution_count": null,
      "outputs": [
        {
          "output_type": "execute_result",
          "data": {
            "text/plain": [
              "Text(0.5, 1.0, '심혈관 질환 X')"
            ]
          },
          "metadata": {
            "tags": []
          },
          "execution_count": 8
        },
        {
          "output_type": "display_data",
          "data": {
            "image/png": "[encoded data removed]",
            "text/plain": [
              "<Figure size 1080x504 with 2 Axes>"
            ]
          },
          "metadata": {
            "tags": [],
            "needs_background": "light"
          }
        }
      ]
    },
    {
      "cell_type": "markdown",
      "metadata": {
        "id": "CsbqSv9Ooe82"
      },
      "source": [
        "- bin으로 쪼개서 5단위, 10단위 등으로 다시 보기"
      ]
    },
    {
      "cell_type": "markdown",
      "metadata": {
        "id": "L1oD8Owioe82"
      },
      "source": [
        "#### 키와 심혈관 질환"
      ]
    },
    {
      "cell_type": "code",
      "metadata": {
        "id": "ZtQCj3ueoe83",
        "outputId": "81dd8b94-882c-4811-8254-bb181fe6cd74"
      },
      "source": [
        "fig, axes = plt.subplots(1, 2, figsize = (15,5))\n",
        "\n",
        "ax1 = sns.countplot(df_car['height'], ax = axes[0])\n",
        "ax1.set(ylim = (0,3500))\n",
        "ax1.set_title('심혈관 질환 O')\n",
        "ax2 = sns.countplot(df_x['height'], ax = axes[1])\n",
        "ax2.set(ylim = (0,3500))\n",
        "ax2.set_title ('심혈관 질환 X')"
      ],
      "execution_count": null,
      "outputs": [
        {
          "output_type": "execute_result",
          "data": {
            "text/plain": [
              "Text(0.5, 1.0, '심혈관 질환 X')"
            ]
          },
          "metadata": {
            "tags": []
          },
          "execution_count": 9
        },
        {
          "output_type": "display_data",
          "data": {
            "image/png": "[encoded data removed]",
            "text/plain": [
              "<Figure size 1080x360 with 2 Axes>"
            ]
          },
          "metadata": {
            "tags": [],
            "needs_background": "light"
          }
        }
      ]
    },
    {
      "cell_type": "markdown",
      "metadata": {
        "id": "fOKifDy1oe84"
      },
      "source": [
        "#### 몸무게와 심혈관 질환"
      ]
    },
    {
      "cell_type": "code",
      "metadata": {
        "id": "zU18l8yWoe84",
        "outputId": "09072599-99c1-41e1-b062-6396e6916264"
      },
      "source": [
        "fig, axes = plt.subplots(1, 2, figsize = (15,5))\n",
        "\n",
        "ax1 = sns.countplot(df_car['weight'], ax = axes[0])\n",
        "ax1.set(ylim = (0,2200), xlim = (0,None))\n",
        "ax1.set_title('심혈관 질환 O')\n",
        "ax2 = sns.countplot(df_x['weight'], ax = axes[1])\n",
        "ax2.set(ylim = (0,2200), xlim = (0,None))\n",
        "ax2.set_title ('심혈관 질환 X')"
      ],
      "execution_count": null,
      "outputs": [
        {
          "output_type": "execute_result",
          "data": {
            "text/plain": [
              "Text(0.5, 1.0, '심혈관 질환 X')"
            ]
          },
          "metadata": {
            "tags": []
          },
          "execution_count": 10
        },
        {
          "output_type": "display_data",
          "data": {
            "image/png": "[encoded data removed]",
            "text/plain": [
              "<Figure size 1080x360 with 2 Axes>"
            ]
          },
          "metadata": {
            "tags": [],
            "needs_background": "light"
          }
        }
      ]
    },
    {
      "cell_type": "markdown",
      "metadata": {
        "id": "fFCG9Agboe85"
      },
      "source": [
        "#### 최대 혈압/ 최소 혈압과 심혈관 질환"
      ]
    },
    {
      "cell_type": "code",
      "metadata": {
        "id": "EXZgpEf_oe86",
        "outputId": "e2d25614-dbb6-4b0f-9fbb-e2837cc3615a"
      },
      "source": [
        "fig, axes = plt.subplots(1, 2, figsize = (15,5))\n",
        "\n",
        "ax1 = sns.countplot(df_car['ap_hi'], ax = axes[0])\n",
        "ax1.set(ylim = (0,18000))\n",
        "ax1.set_title('심혈관 질환 O')\n",
        "ax2 = sns.countplot(df_x['ap_hi'], ax = axes[1])\n",
        "ax2.set(ylim = (0,18000))\n",
        "ax2.set_title ('심혈관 질환 X')"
      ],
      "execution_count": null,
      "outputs": [
        {
          "output_type": "execute_result",
          "data": {
            "text/plain": [
              "Text(0.5, 1.0, '심혈관 질환 X')"
            ]
          },
          "metadata": {
            "tags": []
          },
          "execution_count": 11
        },
        {
          "output_type": "display_data",
          "data": {
            "image/png": "[encoded data removed]",
            "text/plain": [
              "<Figure size 1080x360 with 2 Axes>"
            ]
          },
          "metadata": {
            "tags": [],
            "needs_background": "light"
          }
        }
      ]
    },
    {
      "cell_type": "code",
      "metadata": {
        "id": "g91BMQ2Eoe87",
        "outputId": "e2183061-53a7-420e-93c3-3cb97dcd28f4"
      },
      "source": [
        "fig, axes = plt.subplots(1, 2, figsize = (15,5))\n",
        "\n",
        "ax1 = sns.countplot(df_car['ap_lo'], ax = axes[0])\n",
        "ax1.set(ylim = (0,20000))\n",
        "ax1.set_title('심혈관 질환 O')\n",
        "ax2 = sns.countplot(df_x['ap_lo'], ax = axes[1])\n",
        "ax2.set(ylim = (0,None))\n",
        "ax2.set_title ('심혈관 질환 X')"
      ],
      "execution_count": null,
      "outputs": [
        {
          "output_type": "execute_result",
          "data": {
            "text/plain": [
              "Text(0.5, 1.0, '심혈관 질환 X')"
            ]
          },
          "metadata": {
            "tags": []
          },
          "execution_count": 12
        },
        {
          "output_type": "display_data",
          "data": {
            "image/png": "[encoded data removed]",
            "text/plain": [
              "<Figure size 1080x360 with 2 Axes>"
            ]
          },
          "metadata": {
            "tags": [],
            "needs_background": "light"
          }
        }
      ]
    },
    {
      "cell_type": "markdown",
      "metadata": {
        "id": "xssrhcugoe87"
      },
      "source": [
        "**혈압을 수치로만 보니 분포와 관계를 파악하기 힘들어서 순위형으로 변경하기로 함**"
      ]
    },
    {
      "cell_type": "markdown",
      "metadata": {
        "id": "Blme34SDoe88"
      },
      "source": [
        "- 최대 혈압이 140 이상 : 고혈압, 130 이상 : 고혈압 전단계, 120 이상 : 주의 혈압, 120 미만 : 정상\n",
        "- 최소 혈압이 90 이상 : 고혈압, 80 이상 : 고혈압 전단계, 80미만 : 정상\n",
        "- 으로 순위형 변수로 변환 후 관측 (네이버 혈압 정보 참조)"
      ]
    },
    {
      "cell_type": "code",
      "metadata": {
        "id": "0XDjBZCnoe89"
      },
      "source": [
        "def trans_aph(x):\n",
        "    if x>=140:\n",
        "        return 4\n",
        "    elif x>=130:\n",
        "        return 3\n",
        "    elif x>=120:\n",
        "        return 2\n",
        "    else:\n",
        "        return 1\n",
        "    \n",
        "def trans_apl(x):\n",
        "    if x>=90:\n",
        "        return 3\n",
        "    elif x >= 80 :\n",
        "        return 2\n",
        "    else:\n",
        "        return 1"
      ],
      "execution_count": null,
      "outputs": []
    },
    {
      "cell_type": "code",
      "metadata": {
        "id": "Rh5ks3u7oe89",
        "outputId": "9d11df3a-6bc0-4d76-9e27-8b2d80121b84"
      },
      "source": [
        "df_car['ap_hi'] = df_car['ap_hi'].apply(trans_aph)\n",
        "df_car['ap_lo'] = df_car['ap_lo'].apply(trans_apl)\n",
        "df_x['ap_hi'] = df_x['ap_hi'].apply(trans_aph)\n",
        "df_x['ap_lo'] = df_x['ap_lo'].apply(trans_apl)"
      ],
      "execution_count": null,
      "outputs": [
        {
          "output_type": "stream",
          "text": [
            "<ipython-input-14-fb75c9b3e2de>:1: SettingWithCopyWarning: \n",
            "A value is trying to be set on a copy of a slice from a DataFrame.\n",
            "Try using .loc[row_indexer,col_indexer] = value instead\n",
            "\n",
            "See the caveats in the documentation: https://pandas.pydata.org/pandas-docs/stable/user_guide/indexing.html#returning-a-view-versus-a-copy\n",
            "  df_car['ap_hi'] = df_car['ap_hi'].apply(trans_aph)\n",
            "<ipython-input-14-fb75c9b3e2de>:2: SettingWithCopyWarning: \n",
            "A value is trying to be set on a copy of a slice from a DataFrame.\n",
            "Try using .loc[row_indexer,col_indexer] = value instead\n",
            "\n",
            "See the caveats in the documentation: https://pandas.pydata.org/pandas-docs/stable/user_guide/indexing.html#returning-a-view-versus-a-copy\n",
            "  df_car['ap_lo'] = df_car['ap_lo'].apply(trans_apl)\n",
            "<ipython-input-14-fb75c9b3e2de>:3: SettingWithCopyWarning: \n",
            "A value is trying to be set on a copy of a slice from a DataFrame.\n",
            "Try using .loc[row_indexer,col_indexer] = value instead\n",
            "\n",
            "See the caveats in the documentation: https://pandas.pydata.org/pandas-docs/stable/user_guide/indexing.html#returning-a-view-versus-a-copy\n",
            "  df_x['ap_hi'] = df_x['ap_hi'].apply(trans_aph)\n",
            "<ipython-input-14-fb75c9b3e2de>:4: SettingWithCopyWarning: \n",
            "A value is trying to be set on a copy of a slice from a DataFrame.\n",
            "Try using .loc[row_indexer,col_indexer] = value instead\n",
            "\n",
            "See the caveats in the documentation: https://pandas.pydata.org/pandas-docs/stable/user_guide/indexing.html#returning-a-view-versus-a-copy\n",
            "  df_x['ap_lo'] = df_x['ap_lo'].apply(trans_apl)\n"
          ],
          "name": "stderr"
        }
      ]
    },
    {
      "cell_type": "code",
      "metadata": {
        "id": "9uQjVG04oe8-",
        "outputId": "677d7103-9b61-4dc4-e4ba-de3b05bb932c"
      },
      "source": [
        "fig, axes = plt.subplots(1, 2, figsize = (15,7))\n",
        "ax1 = sns.countplot(df_car['ap_hi'], ax = axes[0])\n",
        "ax2 = sns.countplot(df_x['ap_hi'], ax = axes[1])\n",
        "ax1.set_title('심혈관 질환 O')\n",
        "ax2.set_title ('심혈관 질환 X')"
      ],
      "execution_count": null,
      "outputs": [
        {
          "output_type": "execute_result",
          "data": {
            "text/plain": [
              "Text(0.5, 1.0, '심혈관 질환 X')"
            ]
          },
          "metadata": {
            "tags": []
          },
          "execution_count": 15
        },
        {
          "output_type": "display_data",
          "data": {
            "image/png": "[encoded data removed]",
            "text/plain": [
              "<Figure size 1080x504 with 2 Axes>"
            ]
          },
          "metadata": {
            "tags": [],
            "needs_background": "light"
          }
        }
      ]
    },
    {
      "cell_type": "code",
      "metadata": {
        "id": "kVAlgf-Woe8_",
        "outputId": "b78c1698-9ffd-4eab-c0b3-ab77d7d41114"
      },
      "source": [
        "fig, axes = plt.subplots(1, 2, figsize = (15,7))\n",
        "ax1 = sns.countplot(df_car['ap_lo'], ax = axes[0])\n",
        "ax2 = sns.countplot(df_x['ap_lo'], ax = axes[1])\n",
        "ax1.set_title('심혈관 질환 O')\n",
        "ax2.set_title ('심혈관 질환 X')"
      ],
      "execution_count": null,
      "outputs": [
        {
          "output_type": "execute_result",
          "data": {
            "text/plain": [
              "Text(0.5, 1.0, '심혈관 질환 X')"
            ]
          },
          "metadata": {
            "tags": []
          },
          "execution_count": 16
        },
        {
          "output_type": "display_data",
          "data": {
            "image/png": "[encoded data removed]",
            "text/plain": [
              "<Figure size 1080x504 with 2 Axes>"
            ]
          },
          "metadata": {
            "tags": [],
            "needs_background": "light"
          }
        }
      ]
    },
    {
      "cell_type": "markdown",
      "metadata": {
        "id": "yRssDgcboe9A"
      },
      "source": [
        "- 최대 혈압과 최소 혈압 모두 심혈관 질환이 있는 환장의 경우 정상치보다 높은 경우가 많았다.\n",
        "- 따라서 혈압에 관계가 있을 것 같다."
      ]
    },
    {
      "cell_type": "code",
      "metadata": {
        "id": "vA0a2IOtoe9C"
      },
      "source": [
        "df_c = df.copy()\n",
        "df_c['ap_hi'] = df_c['ap_hi'].apply(trans_aph)\n",
        "df_c['ap_lo'] = df_c['ap_lo'].apply(trans_apl)"
      ],
      "execution_count": null,
      "outputs": []
    },
    {
      "cell_type": "code",
      "metadata": {
        "id": "gd9BzPuyoe9E",
        "outputId": "7a17fb12-eacc-4c37-eabe-c603828f0576"
      },
      "source": [
        "df_c.corr()"
      ],
      "execution_count": null,
      "outputs": [
        {
          "output_type": "execute_result",
          "data": {
            "text/html": [
              "<div>\n",
              "<style scoped>\n",
              "    .dataframe tbody tr th:only-of-type {\n",
              "        vertical-align: middle;\n",
              "    }\n",
              "\n",
              "    .dataframe tbody tr th {\n",
              "        vertical-align: top;\n",
              "    }\n",
              "\n",
              "    .dataframe thead th {\n",
              "        text-align: right;\n",
              "    }\n",
              "</style>\n",
              "<table border=\"1\" class=\"dataframe\">\n",
              "  <thead>\n",
              "    <tr style=\"text-align: right;\">\n",
              "      <th></th>\n",
              "      <th>age</th>\n",
              "      <th>gender</th>\n",
              "      <th>height</th>\n",
              "      <th>weight</th>\n",
              "      <th>ap_hi</th>\n",
              "      <th>ap_lo</th>\n",
              "      <th>cholesterol</th>\n",
              "      <th>gluc</th>\n",
              "      <th>smoke</th>\n",
              "      <th>alco</th>\n",
              "      <th>active</th>\n",
              "      <th>cardio</th>\n",
              "    </tr>\n",
              "  </thead>\n",
              "  <tbody>\n",
              "    <tr>\n",
              "      <th>age</th>\n",
              "      <td>1.000000</td>\n",
              "      <td>-0.022913</td>\n",
              "      <td>-0.081506</td>\n",
              "      <td>0.053561</td>\n",
              "      <td>0.217114</td>\n",
              "      <td>0.163587</td>\n",
              "      <td>0.154012</td>\n",
              "      <td>0.098388</td>\n",
              "      <td>-0.047649</td>\n",
              "      <td>-0.029756</td>\n",
              "      <td>-0.009998</td>\n",
              "      <td>0.237985</td>\n",
              "    </tr>\n",
              "    <tr>\n",
              "      <th>gender</th>\n",
              "      <td>-0.022913</td>\n",
              "      <td>1.000000</td>\n",
              "      <td>0.499033</td>\n",
              "      <td>0.155406</td>\n",
              "      <td>0.057059</td>\n",
              "      <td>0.064475</td>\n",
              "      <td>-0.035821</td>\n",
              "      <td>-0.020491</td>\n",
              "      <td>0.338135</td>\n",
              "      <td>0.170966</td>\n",
              "      <td>0.005866</td>\n",
              "      <td>0.008109</td>\n",
              "    </tr>\n",
              "    <tr>\n",
              "      <th>height</th>\n",
              "      <td>-0.081506</td>\n",
              "      <td>0.499033</td>\n",
              "      <td>1.000000</td>\n",
              "      <td>0.290968</td>\n",
              "      <td>0.013054</td>\n",
              "      <td>0.032967</td>\n",
              "      <td>-0.050226</td>\n",
              "      <td>-0.018595</td>\n",
              "      <td>0.187989</td>\n",
              "      <td>0.094419</td>\n",
              "      <td>-0.006570</td>\n",
              "      <td>-0.010821</td>\n",
              "    </tr>\n",
              "    <tr>\n",
              "      <th>weight</th>\n",
              "      <td>0.053561</td>\n",
              "      <td>0.155406</td>\n",
              "      <td>0.290968</td>\n",
              "      <td>1.000000</td>\n",
              "      <td>0.269606</td>\n",
              "      <td>0.242741</td>\n",
              "      <td>0.141768</td>\n",
              "      <td>0.106857</td>\n",
              "      <td>0.067780</td>\n",
              "      <td>0.067113</td>\n",
              "      <td>-0.016867</td>\n",
              "      <td>0.181660</td>\n",
              "    </tr>\n",
              "    <tr>\n",
              "      <th>ap_hi</th>\n",
              "      <td>0.217114</td>\n",
              "      <td>0.057059</td>\n",
              "      <td>0.013054</td>\n",
              "      <td>0.269606</td>\n",
              "      <td>1.000000</td>\n",
              "      <td>0.716851</td>\n",
              "      <td>0.214204</td>\n",
              "      <td>0.100069</td>\n",
              "      <td>0.027558</td>\n",
              "      <td>0.030651</td>\n",
              "      <td>-0.001467</td>\n",
              "      <td>0.460144</td>\n",
              "    </tr>\n",
              "    <tr>\n",
              "      <th>ap_lo</th>\n",
              "      <td>0.163587</td>\n",
              "      <td>0.064475</td>\n",
              "      <td>0.032967</td>\n",
              "      <td>0.242741</td>\n",
              "      <td>0.716851</td>\n",
              "      <td>1.000000</td>\n",
              "      <td>0.161294</td>\n",
              "      <td>0.072886</td>\n",
              "      <td>0.024100</td>\n",
              "      <td>0.034658</td>\n",
              "      <td>0.004390</td>\n",
              "      <td>0.355168</td>\n",
              "    </tr>\n",
              "    <tr>\n",
              "      <th>cholesterol</th>\n",
              "      <td>0.154012</td>\n",
              "      <td>-0.035821</td>\n",
              "      <td>-0.050226</td>\n",
              "      <td>0.141768</td>\n",
              "      <td>0.214204</td>\n",
              "      <td>0.161294</td>\n",
              "      <td>1.000000</td>\n",
              "      <td>0.451578</td>\n",
              "      <td>0.010354</td>\n",
              "      <td>0.035760</td>\n",
              "      <td>0.009911</td>\n",
              "      <td>0.221147</td>\n",
              "    </tr>\n",
              "    <tr>\n",
              "      <th>gluc</th>\n",
              "      <td>0.098388</td>\n",
              "      <td>-0.020491</td>\n",
              "      <td>-0.018595</td>\n",
              "      <td>0.106857</td>\n",
              "      <td>0.100069</td>\n",
              "      <td>0.072886</td>\n",
              "      <td>0.451578</td>\n",
              "      <td>1.000000</td>\n",
              "      <td>-0.004756</td>\n",
              "      <td>0.011246</td>\n",
              "      <td>-0.006770</td>\n",
              "      <td>0.089307</td>\n",
              "    </tr>\n",
              "    <tr>\n",
              "      <th>smoke</th>\n",
              "      <td>-0.047649</td>\n",
              "      <td>0.338135</td>\n",
              "      <td>0.187989</td>\n",
              "      <td>0.067780</td>\n",
              "      <td>0.027558</td>\n",
              "      <td>0.024100</td>\n",
              "      <td>0.010354</td>\n",
              "      <td>-0.004756</td>\n",
              "      <td>1.000000</td>\n",
              "      <td>0.340094</td>\n",
              "      <td>0.025858</td>\n",
              "      <td>-0.015486</td>\n",
              "    </tr>\n",
              "    <tr>\n",
              "      <th>alco</th>\n",
              "      <td>-0.029756</td>\n",
              "      <td>0.170966</td>\n",
              "      <td>0.094419</td>\n",
              "      <td>0.067113</td>\n",
              "      <td>0.030651</td>\n",
              "      <td>0.034658</td>\n",
              "      <td>0.035760</td>\n",
              "      <td>0.011246</td>\n",
              "      <td>0.340094</td>\n",
              "      <td>1.000000</td>\n",
              "      <td>0.025476</td>\n",
              "      <td>-0.007330</td>\n",
              "    </tr>\n",
              "    <tr>\n",
              "      <th>active</th>\n",
              "      <td>-0.009998</td>\n",
              "      <td>0.005866</td>\n",
              "      <td>-0.006570</td>\n",
              "      <td>-0.016867</td>\n",
              "      <td>-0.001467</td>\n",
              "      <td>0.004390</td>\n",
              "      <td>0.009911</td>\n",
              "      <td>-0.006770</td>\n",
              "      <td>0.025858</td>\n",
              "      <td>0.025476</td>\n",
              "      <td>1.000000</td>\n",
              "      <td>-0.035653</td>\n",
              "    </tr>\n",
              "    <tr>\n",
              "      <th>cardio</th>\n",
              "      <td>0.237985</td>\n",
              "      <td>0.008109</td>\n",
              "      <td>-0.010821</td>\n",
              "      <td>0.181660</td>\n",
              "      <td>0.460144</td>\n",
              "      <td>0.355168</td>\n",
              "      <td>0.221147</td>\n",
              "      <td>0.089307</td>\n",
              "      <td>-0.015486</td>\n",
              "      <td>-0.007330</td>\n",
              "      <td>-0.035653</td>\n",
              "      <td>1.000000</td>\n",
              "    </tr>\n",
              "  </tbody>\n",
              "</table>\n",
              "</div>"
            ],
            "text/plain": [
              "                  age    gender    height    weight     ap_hi     ap_lo  \\\n",
              "age          1.000000 -0.022913 -0.081506  0.053561  0.217114  0.163587   \n",
              "gender      -0.022913  1.000000  0.499033  0.155406  0.057059  0.064475   \n",
              "height      -0.081506  0.499033  1.000000  0.290968  0.013054  0.032967   \n",
              "weight       0.053561  0.155406  0.290968  1.000000  0.269606  0.242741   \n",
              "ap_hi        0.217114  0.057059  0.013054  0.269606  1.000000  0.716851   \n",
              "ap_lo        0.163587  0.064475  0.032967  0.242741  0.716851  1.000000   \n",
              "cholesterol  0.154012 -0.035821 -0.050226  0.141768  0.214204  0.161294   \n",
              "gluc         0.098388 -0.020491 -0.018595  0.106857  0.100069  0.072886   \n",
              "smoke       -0.047649  0.338135  0.187989  0.067780  0.027558  0.024100   \n",
              "alco        -0.029756  0.170966  0.094419  0.067113  0.030651  0.034658   \n",
              "active      -0.009998  0.005866 -0.006570 -0.016867 -0.001467  0.004390   \n",
              "cardio       0.237985  0.008109 -0.010821  0.181660  0.460144  0.355168   \n",
              "\n",
              "             cholesterol      gluc     smoke      alco    active    cardio  \n",
              "age             0.154012  0.098388 -0.047649 -0.029756 -0.009998  0.237985  \n",
              "gender         -0.035821 -0.020491  0.338135  0.170966  0.005866  0.008109  \n",
              "height         -0.050226 -0.018595  0.187989  0.094419 -0.006570 -0.010821  \n",
              "weight          0.141768  0.106857  0.067780  0.067113 -0.016867  0.181660  \n",
              "ap_hi           0.214204  0.100069  0.027558  0.030651 -0.001467  0.460144  \n",
              "ap_lo           0.161294  0.072886  0.024100  0.034658  0.004390  0.355168  \n",
              "cholesterol     1.000000  0.451578  0.010354  0.035760  0.009911  0.221147  \n",
              "gluc            0.451578  1.000000 -0.004756  0.011246 -0.006770  0.089307  \n",
              "smoke           0.010354 -0.004756  1.000000  0.340094  0.025858 -0.015486  \n",
              "alco            0.035760  0.011246  0.340094  1.000000  0.025476 -0.007330  \n",
              "active          0.009911 -0.006770  0.025858  0.025476  1.000000 -0.035653  \n",
              "cardio          0.221147  0.089307 -0.015486 -0.007330 -0.035653  1.000000  "
            ]
          },
          "metadata": {
            "tags": []
          },
          "execution_count": 18
        }
      ]
    },
    {
      "cell_type": "markdown",
      "metadata": {
        "id": "RLZKJN7Zoe9F"
      },
      "source": [
        "- 혈압 변수를 순위형 데이터로 바꾸니 상관관계가 0.46과 0.355로 매우 올라갔다.\n",
        "- 따라서 이 변수를 사용해 볼 것이다."
      ]
    },
    {
      "cell_type": "markdown",
      "metadata": {
        "id": "063C43d1oe9F"
      },
      "source": [
        "#### 성별과 심혈관 질환"
      ]
    },
    {
      "cell_type": "code",
      "metadata": {
        "id": "F8eBolGDoe9G",
        "outputId": "5a3ea6cb-408d-4ed6-8350-52b186a3f52f"
      },
      "source": [
        "sns.scatterplot(data = df, x = 'cardio', y = 'age', hue = 'gender')"
      ],
      "execution_count": null,
      "outputs": [
        {
          "output_type": "execute_result",
          "data": {
            "text/plain": [
              "<matplotlib.axes._subplots.AxesSubplot at 0x1e25a92ce50>"
            ]
          },
          "metadata": {
            "tags": []
          },
          "execution_count": 19
        },
        {
          "output_type": "display_data",
          "data": {
            "image/png": "[encoded data removed]",
            "text/plain": [
              "<Figure size 432x288 with 1 Axes>"
            ]
          },
          "metadata": {
            "tags": [],
            "needs_background": "light"
          }
        }
      ]
    },
    {
      "cell_type": "code",
      "metadata": {
        "id": "ASpRhczvoe9H",
        "outputId": "b4a98833-f39f-438f-de8b-803bf7035ad1"
      },
      "source": [
        "fig, axes = plt.subplots(1, 2, figsize = (15,7))\n",
        "ax1 = sns.countplot(df_car['gender'], ax = axes[0])\n",
        "ax2 = sns.countplot(df_x['gender'], ax = axes[1])\n",
        "ax1.set_title('심혈관 질환 O')\n",
        "ax2.set_title ('심혈관 질환 X')"
      ],
      "execution_count": null,
      "outputs": [
        {
          "output_type": "execute_result",
          "data": {
            "text/plain": [
              "Text(0.5, 1.0, '심혈관 질환 X')"
            ]
          },
          "metadata": {
            "tags": []
          },
          "execution_count": 20
        },
        {
          "output_type": "display_data",
          "data": {
            "image/png": "[encoded data removed]",
            "text/plain": [
              "<Figure size 1080x504 with 2 Axes>"
            ]
          },
          "metadata": {
            "tags": [],
            "needs_background": "light"
          }
        }
      ]
    },
    {
      "cell_type": "markdown",
      "metadata": {
        "id": "jQhYmfn7oe9I"
      },
      "source": [
        "- 데이터 상에서는 심혈관질환 환자의 나이와 성별 모두 고르게 분포되어 있는 것 같다. (이것들만으로 예측을 하기 힘들 것임)"
      ]
    },
    {
      "cell_type": "markdown",
      "metadata": {
        "id": "z55g0ONMoe9I"
      },
      "source": [
        "#### 활동성과 심혈관 질환"
      ]
    },
    {
      "cell_type": "code",
      "metadata": {
        "id": "eVt666i7oe9I",
        "outputId": "2fa53760-c53a-457d-d5b5-b70eb02cd465"
      },
      "source": [
        "fig, axes = plt.subplots(1, 2, figsize = (15,5))\n",
        "\n",
        "ax1 = sns.countplot(df_car['active'], ax = axes[0])\n",
        "ax1.set(ylim = (0,30000))\n",
        "ax1.set_title('심혈관 질환 O')\n",
        "ax2 = sns.countplot(df_x['active'], ax = axes[1])\n",
        "ax2.set_title ('심혈관 질환 X')"
      ],
      "execution_count": null,
      "outputs": [
        {
          "output_type": "execute_result",
          "data": {
            "text/plain": [
              "Text(0.5, 1.0, '심혈관 질환 X')"
            ]
          },
          "metadata": {
            "tags": []
          },
          "execution_count": 21
        },
        {
          "output_type": "display_data",
          "data": {
            "image/png": "[encoded data removed]",
            "text/plain": [
              "<Figure size 1080x360 with 2 Axes>"
            ]
          },
          "metadata": {
            "tags": [],
            "needs_background": "light"
          }
        }
      ]
    },
    {
      "cell_type": "code",
      "metadata": {
        "id": "kyh9JKvLoe9J",
        "outputId": "9f99bdc0-1325-4071-c81c-e8b58038fe91"
      },
      "source": [
        "sns.scatterplot(data = df, x = 'cardio', y = 'age', hue = 'active')"
      ],
      "execution_count": null,
      "outputs": [
        {
          "output_type": "execute_result",
          "data": {
            "text/plain": [
              "<matplotlib.axes._subplots.AxesSubplot at 0x1e25b48ffd0>"
            ]
          },
          "metadata": {
            "tags": []
          },
          "execution_count": 22
        },
        {
          "output_type": "display_data",
          "data": {
            "image/png": "[encoded data removed]",
            "text/plain": [
              "<Figure size 432x288 with 1 Axes>"
            ]
          },
          "metadata": {
            "tags": [],
            "needs_background": "light"
          }
        }
      ]
    },
    {
      "cell_type": "markdown",
      "metadata": {
        "id": "CBCNMNnHoe9J"
      },
      "source": [
        "- 활동성이 낮은 고연령대 사람들이 심혈관 질환에 걸린 그룹에 많이 분포된 것으로 보인다."
      ]
    },
    {
      "cell_type": "markdown",
      "metadata": {
        "id": "vsqA2HjWoe9K"
      },
      "source": [
        "#### 콜레스테롤 수치와 심혈관 질환"
      ]
    },
    {
      "cell_type": "code",
      "metadata": {
        "id": "K-BO-dj6oe9K",
        "outputId": "d5951ae4-90cf-4b99-e7d4-ca4bfbcc1a51"
      },
      "source": [
        "fig, axes = plt.subplots(1, 2, figsize = (15,5))\n",
        "\n",
        "ax1 = sns.countplot(df_car['cholesterol'], ax = axes[0])\n",
        "ax1.set(ylim = (0,30000))\n",
        "ax1.set_title('심혈관 질환 O')\n",
        "ax2 = sns.countplot(df_x['cholesterol'], ax = axes[1])\n",
        "ax2.set_title ('심혈관 질환 X')"
      ],
      "execution_count": null,
      "outputs": [
        {
          "output_type": "execute_result",
          "data": {
            "text/plain": [
              "Text(0.5, 1.0, '심혈관 질환 X')"
            ]
          },
          "metadata": {
            "tags": []
          },
          "execution_count": 23
        },
        {
          "output_type": "display_data",
          "data": {
            "image/png": "[encoded data removed]",
            "text/plain": [
              "<Figure size 1080x360 with 2 Axes>"
            ]
          },
          "metadata": {
            "tags": [],
            "needs_background": "light"
          }
        }
      ]
    },
    {
      "cell_type": "code",
      "metadata": {
        "id": "SgRJSzVHoe9L",
        "outputId": "7cff6606-38a1-465c-a888-337329a50354"
      },
      "source": [
        "sns.scatterplot(data = df, y = 'age', x = 'cholesterol', hue = 'cardio')"
      ],
      "execution_count": null,
      "outputs": [
        {
          "output_type": "execute_result",
          "data": {
            "text/plain": [
              "<matplotlib.axes._subplots.AxesSubplot at 0x1e25b37cdf0>"
            ]
          },
          "metadata": {
            "tags": []
          },
          "execution_count": 24
        },
        {
          "output_type": "display_data",
          "data": {
            "image/png": "[encoded data removed]",
            "text/plain": [
              "<Figure size 432x288 with 1 Axes>"
            ]
          },
          "metadata": {
            "tags": [],
            "needs_background": "light"
          }
        }
      ]
    },
    {
      "cell_type": "markdown",
      "metadata": {
        "id": "y2BO8Frfoe9L"
      },
      "source": [
        "- 나이가 적더라도 콜레스테롤 수치가 높은 사람일 수록 심혈관 질환에 걸린 사람이 많았다."
      ]
    },
    {
      "cell_type": "markdown",
      "metadata": {
        "id": "dNTWsQe4oe9M"
      },
      "source": [
        "#### 포도당과 심혈관 질환"
      ]
    },
    {
      "cell_type": "code",
      "metadata": {
        "id": "ZPP2KtqPoe9M",
        "outputId": "85b77a74-f319-4d6e-e0ff-e39f3ee09309"
      },
      "source": [
        "fig, axes = plt.subplots(1, 2, figsize = (15,5))\n",
        "\n",
        "ax1 = sns.countplot(df_car['gluc'], ax = axes[0])\n",
        "ax1.set(ylim = (0,35000))\n",
        "ax1.set_title('심혈관 질환 O')\n",
        "ax2 = sns.countplot(df_x['gluc'], ax = axes[1])\n",
        "ax2.set(ylim = (0,35000))\n",
        "ax2.set_title ('심혈관 질환 X')"
      ],
      "execution_count": null,
      "outputs": [
        {
          "output_type": "execute_result",
          "data": {
            "text/plain": [
              "Text(0.5, 1.0, '심혈관 질환 X')"
            ]
          },
          "metadata": {
            "tags": []
          },
          "execution_count": 25
        },
        {
          "output_type": "display_data",
          "data": {
            "image/png": "[encoded data removed]",
            "text/plain": [
              "<Figure size 1080x360 with 2 Axes>"
            ]
          },
          "metadata": {
            "tags": [],
            "needs_background": "light"
          }
        }
      ]
    },
    {
      "cell_type": "code",
      "metadata": {
        "id": "015kvb2woe9N",
        "outputId": "1620fd77-28bf-44e1-bed1-455ecae5a872"
      },
      "source": [
        "sns.scatterplot(data = df, y = 'age', x = 'gluc', hue = 'cardio')"
      ],
      "execution_count": null,
      "outputs": [
        {
          "output_type": "execute_result",
          "data": {
            "text/plain": [
              "<matplotlib.axes._subplots.AxesSubplot at 0x1e25b576940>"
            ]
          },
          "metadata": {
            "tags": []
          },
          "execution_count": 26
        },
        {
          "output_type": "display_data",
          "data": {
            "image/png": "[encoded data removed]",
            "text/plain": [
              "<Figure size 432x288 with 1 Axes>"
            ]
          },
          "metadata": {
            "tags": [],
            "needs_background": "light"
          }
        }
      ]
    },
    {
      "cell_type": "markdown",
      "metadata": {
        "id": "Z0JOec3Loe9N"
      },
      "source": [
        "#### 흡연여부와 심혈관 질환"
      ]
    },
    {
      "cell_type": "code",
      "metadata": {
        "id": "FlXc1Y84oe9N",
        "outputId": "12fd10fc-8c24-421e-8555-d467b9e4a300"
      },
      "source": [
        "fig, axes = plt.subplots(1, 2, figsize = (15,5))\n",
        "\n",
        "ax1 = sns.countplot(df_car['smoke'], ax = axes[0])\n",
        "ax1.set(ylim = (0,35000))\n",
        "ax1.set_title('심혈관 질환 O')\n",
        "ax2 = sns.countplot(df_x['smoke'], ax = axes[1])\n",
        "ax2.set(ylim = (0,35000))\n",
        "ax2.set_title ('심혈관 질환 X')"
      ],
      "execution_count": null,
      "outputs": [
        {
          "output_type": "execute_result",
          "data": {
            "text/plain": [
              "Text(0.5, 1.0, '심혈관 질환 X')"
            ]
          },
          "metadata": {
            "tags": []
          },
          "execution_count": 27
        },
        {
          "output_type": "display_data",
          "data": {
            "image/png": "[encoded data removed]",
            "text/plain": [
              "<Figure size 1080x360 with 2 Axes>"
            ]
          },
          "metadata": {
            "tags": [],
            "needs_background": "light"
          }
        }
      ]
    },
    {
      "cell_type": "code",
      "metadata": {
        "id": "xc2dfBGloe9O",
        "outputId": "4df13ac4-8657-48ff-eab2-a808bc1b40a7"
      },
      "source": [
        "sns.scatterplot(data = df, y = 'age', x = 'smoke', hue = 'cardio')"
      ],
      "execution_count": null,
      "outputs": [
        {
          "output_type": "execute_result",
          "data": {
            "text/plain": [
              "<matplotlib.axes._subplots.AxesSubplot at 0x1e25ba0f910>"
            ]
          },
          "metadata": {
            "tags": []
          },
          "execution_count": 28
        },
        {
          "output_type": "display_data",
          "data": {
            "image/png": "[encoded data removed]",
            "text/plain": [
              "<Figure size 432x288 with 1 Axes>"
            ]
          },
          "metadata": {
            "tags": [],
            "needs_background": "light"
          }
        }
      ]
    },
    {
      "cell_type": "markdown",
      "metadata": {
        "id": "V_y19a4Koe9O"
      },
      "source": [
        "- 흡연 여부는 크게 상관이 있어 보이지 않는다."
      ]
    },
    {
      "cell_type": "markdown",
      "metadata": {
        "id": "1cEDYkFOoe9O"
      },
      "source": [
        "#### 음주여부와 심혈관 질환"
      ]
    },
    {
      "cell_type": "code",
      "metadata": {
        "id": "Fy22mgLnoe9P",
        "outputId": "e69f84b0-ebab-42fd-9024-abb4df88d613"
      },
      "source": [
        "fig, axes = plt.subplots(1, 2, figsize = (15,5))\n",
        "\n",
        "ax1 = sns.countplot(df_car['alco'], ax = axes[0])\n",
        "ax1.set(ylim = (0,35000))\n",
        "ax1.set_title('심혈관 질환 O')\n",
        "ax2 = sns.countplot(df_x['alco'], ax = axes[1])\n",
        "ax2.set(ylim = (0,35000))\n",
        "ax2.set_title ('심혈관 질환 X')"
      ],
      "execution_count": null,
      "outputs": [
        {
          "output_type": "execute_result",
          "data": {
            "text/plain": [
              "Text(0.5, 1.0, '심혈관 질환 X')"
            ]
          },
          "metadata": {
            "tags": []
          },
          "execution_count": 29
        },
        {
          "output_type": "display_data",
          "data": {
            "image/png": "[encoded data removed]",
            "text/plain": [
              "<Figure size 1080x360 with 2 Axes>"
            ]
          },
          "metadata": {
            "tags": [],
            "needs_background": "light"
          }
        }
      ]
    },
    {
      "cell_type": "code",
      "metadata": {
        "id": "PjXCWe_Xoe9Q",
        "outputId": "7d86a150-ef87-434a-de1e-6f7b461be138"
      },
      "source": [
        "sns.scatterplot(data = df, y = 'age', x = 'alco', hue = 'cardio')"
      ],
      "execution_count": null,
      "outputs": [
        {
          "output_type": "execute_result",
          "data": {
            "text/plain": [
              "<matplotlib.axes._subplots.AxesSubplot at 0x1e25babfe20>"
            ]
          },
          "metadata": {
            "tags": []
          },
          "execution_count": 30
        },
        {
          "output_type": "display_data",
          "data": {
            "image/png": "[encoded data removed]",
            "text/plain": [
              "<Figure size 432x288 with 1 Axes>"
            ]
          },
          "metadata": {
            "tags": [],
            "needs_background": "light"
          }
        }
      ]
    },
    {
      "cell_type": "markdown",
      "metadata": {
        "id": "r4WMObDToe9R"
      },
      "source": [
        "- 음주여부도 크게 상관있어 보이지 않는다."
      ]
    },
    {
      "cell_type": "markdown",
      "metadata": {
        "id": "H2n6_XUYoe9R"
      },
      "source": [
        "- 음주여부와 흡연여부, 키, 성별 feature은 사용하지 않기로 하자."
      ]
    },
    {
      "cell_type": "code",
      "metadata": {
        "id": "pxro9825oe9R",
        "outputId": "8124613e-16d8-4ff6-aa47-463daffe6e87"
      },
      "source": [
        "df_c = df_c.drop(['smoke', 'alco', 'height', 'gender'], axis = 1)\n",
        "df_c.head()"
      ],
      "execution_count": null,
      "outputs": [
        {
          "output_type": "execute_result",
          "data": {
            "text/html": [
              "<div>\n",
              "<style scoped>\n",
              "    .dataframe tbody tr th:only-of-type {\n",
              "        vertical-align: middle;\n",
              "    }\n",
              "\n",
              "    .dataframe tbody tr th {\n",
              "        vertical-align: top;\n",
              "    }\n",
              "\n",
              "    .dataframe thead th {\n",
              "        text-align: right;\n",
              "    }\n",
              "</style>\n",
              "<table border=\"1\" class=\"dataframe\">\n",
              "  <thead>\n",
              "    <tr style=\"text-align: right;\">\n",
              "      <th></th>\n",
              "      <th>age</th>\n",
              "      <th>weight</th>\n",
              "      <th>ap_hi</th>\n",
              "      <th>ap_lo</th>\n",
              "      <th>cholesterol</th>\n",
              "      <th>gluc</th>\n",
              "      <th>active</th>\n",
              "      <th>cardio</th>\n",
              "    </tr>\n",
              "  </thead>\n",
              "  <tbody>\n",
              "    <tr>\n",
              "      <th>0</th>\n",
              "      <td>50</td>\n",
              "      <td>62.0</td>\n",
              "      <td>1</td>\n",
              "      <td>2</td>\n",
              "      <td>1</td>\n",
              "      <td>1</td>\n",
              "      <td>1</td>\n",
              "      <td>0</td>\n",
              "    </tr>\n",
              "    <tr>\n",
              "      <th>1</th>\n",
              "      <td>55</td>\n",
              "      <td>85.0</td>\n",
              "      <td>4</td>\n",
              "      <td>3</td>\n",
              "      <td>3</td>\n",
              "      <td>1</td>\n",
              "      <td>1</td>\n",
              "      <td>1</td>\n",
              "    </tr>\n",
              "    <tr>\n",
              "      <th>2</th>\n",
              "      <td>51</td>\n",
              "      <td>64.0</td>\n",
              "      <td>3</td>\n",
              "      <td>1</td>\n",
              "      <td>3</td>\n",
              "      <td>1</td>\n",
              "      <td>0</td>\n",
              "      <td>1</td>\n",
              "    </tr>\n",
              "    <tr>\n",
              "      <th>3</th>\n",
              "      <td>48</td>\n",
              "      <td>82.0</td>\n",
              "      <td>4</td>\n",
              "      <td>3</td>\n",
              "      <td>1</td>\n",
              "      <td>1</td>\n",
              "      <td>1</td>\n",
              "      <td>1</td>\n",
              "    </tr>\n",
              "    <tr>\n",
              "      <th>4</th>\n",
              "      <td>47</td>\n",
              "      <td>56.0</td>\n",
              "      <td>1</td>\n",
              "      <td>1</td>\n",
              "      <td>1</td>\n",
              "      <td>1</td>\n",
              "      <td>0</td>\n",
              "      <td>0</td>\n",
              "    </tr>\n",
              "  </tbody>\n",
              "</table>\n",
              "</div>"
            ],
            "text/plain": [
              "   age  weight  ap_hi  ap_lo  cholesterol  gluc  active  cardio\n",
              "0   50    62.0      1      2            1     1       1       0\n",
              "1   55    85.0      4      3            3     1       1       1\n",
              "2   51    64.0      3      1            3     1       0       1\n",
              "3   48    82.0      4      3            1     1       1       1\n",
              "4   47    56.0      1      1            1     1       0       0"
            ]
          },
          "metadata": {
            "tags": []
          },
          "execution_count": 31
        }
      ]
    },
    {
      "cell_type": "markdown",
      "metadata": {
        "id": "blTOKLvloe9S"
      },
      "source": [
        "### 2) 다운로드 한 훈련 데이터를 훈련/검증/테스트 세트로 나누어 주세요"
      ]
    },
    {
      "cell_type": "code",
      "metadata": {
        "id": "xjSkxQ67oe9T",
        "outputId": "cdf73771-084c-49e0-dccd-09e1e47c4c0a"
      },
      "source": [
        "from sklearn.model_selection import train_test_split\n",
        "train, test = train_test_split(df_c, random_state=2, train_size = 0.8, stratify = df['cardio'])\n",
        "print(\"train shape: \", train.shape)\n",
        "print(\"test shape: \", test.shape)"
      ],
      "execution_count": null,
      "outputs": [
        {
          "output_type": "stream",
          "text": [
            "train shape:  (56000, 8)\n",
            "test shape:  (14000, 8)\n"
          ],
          "name": "stdout"
        }
      ]
    },
    {
      "cell_type": "code",
      "metadata": {
        "id": "eO7WHcAboe9T",
        "outputId": "fc7140ad-6455-4214-c4e5-0045105a3244"
      },
      "source": [
        "train, val = train_test_split(train, random_state = 2, train_size = 0.8, stratify = train['cardio'])\n",
        "print(\"train shape: \", train.shape)\n",
        "print(\"val shape: \", val.shape)"
      ],
      "execution_count": null,
      "outputs": [
        {
          "output_type": "stream",
          "text": [
            "train shape:  (44800, 8)\n",
            "val shape:  (11200, 8)\n"
          ],
          "name": "stdout"
        }
      ]
    },
    {
      "cell_type": "markdown",
      "metadata": {
        "id": "TVbxA6Q9oe9U"
      },
      "source": [
        "### 3) 분류모델과 비교하기 위한 기준모델은 어떻게 설정해야 할까요?"
      ]
    },
    {
      "cell_type": "markdown",
      "metadata": {
        "id": "OrYie_Rdoe9Y"
      },
      "source": [
        "- 우선 기준 모델로 train dataset에서 가장 많이 나온 cardio 값을 확인한 뒤, 모든 예측값을 해당 값으로 예측했다고 가정하여 만들어본다."
      ]
    },
    {
      "cell_type": "code",
      "metadata": {
        "id": "-snNIs_Woe9Y",
        "outputId": "e79e7b50-08e6-4d75-c996-f4acf3d5d54c"
      },
      "source": [
        "# 타겟 정하기\n",
        "target = 'cardio'\n",
        "y_train = train[target]\n",
        "y_val = val[target]\n",
        "y_test = test[target]\n",
        "\n",
        "x_train = train.drop(target, axis =1)\n",
        "x_val = val.drop(target, axis =1)\n",
        "x_test = test.drop(target, axis =1)\n",
        "\n",
        "x_train.shape, y_train.shape, x_test.shape, y_test.shape"
      ],
      "execution_count": null,
      "outputs": [
        {
          "output_type": "execute_result",
          "data": {
            "text/plain": [
              "((44800, 7), (44800,), (14000, 7), (14000,))"
            ]
          },
          "metadata": {
            "tags": []
          },
          "execution_count": 49
        }
      ]
    },
    {
      "cell_type": "code",
      "metadata": {
        "id": "OGP8htxkoe9Z",
        "outputId": "a7004e03-202c-44e7-f396-f823efe0348e"
      },
      "source": [
        "# 타겟의 비율 확인\n",
        "y_train.value_counts(normalize=True)"
      ],
      "execution_count": null,
      "outputs": [
        {
          "output_type": "execute_result",
          "data": {
            "text/plain": [
              "0    0.500313\n",
              "1    0.499688\n",
              "Name: cardio, dtype: float64"
            ]
          },
          "metadata": {
            "tags": []
          },
          "execution_count": 50
        }
      ]
    },
    {
      "cell_type": "code",
      "metadata": {
        "id": "b0bk5Gtdoe9Z",
        "outputId": "a4e6958b-7935-47c8-86f7-6fddd6b56dac"
      },
      "source": [
        "from sklearn.metrics import accuracy_score\n",
        "\n",
        "y_pred = [0]*len(y_train)\n",
        "print(\"training accuracy: \", accuracy_score(y_train, y_pred))"
      ],
      "execution_count": null,
      "outputs": [
        {
          "output_type": "stream",
          "text": [
            "training accuracy:  0.5003125\n"
          ],
          "name": "stdout"
        }
      ]
    },
    {
      "cell_type": "markdown",
      "metadata": {
        "id": "bObiAJKSoe9a"
      },
      "source": [
        "- 기준 모델의 경우 정확도가 0.5로 딱 절반이다."
      ]
    },
    {
      "cell_type": "code",
      "metadata": {
        "id": "90nbsxNhoe9a",
        "outputId": "11b76daa-608b-4f17-c147-d685a21bec6e"
      },
      "source": [
        "# 검증 데이터 셋에서 확인\n",
        "y_pred = [0] * len(y_val)\n",
        "print(\"validation accuracy: \", accuracy_score(y_val, y_pred))"
      ],
      "execution_count": null,
      "outputs": [
        {
          "output_type": "stream",
          "text": [
            "validation accuracy:  0.5002678571428572\n"
          ],
          "name": "stdout"
        }
      ]
    },
    {
      "cell_type": "markdown",
      "metadata": {
        "id": "bFRBWkvVoe9b"
      },
      "source": [
        "- 검증 데이터셋도 비슷한 결과를 보인다."
      ]
    },
    {
      "cell_type": "markdown",
      "metadata": {
        "id": "4ZYRNMwfoe9b"
      },
      "source": [
        "### 4) 사이킷런의 LogisticRegression을 사용해 모델을 만들어 보세요"
      ]
    },
    {
      "cell_type": "code",
      "metadata": {
        "id": "3UUbPIlxoe9b",
        "outputId": "40fa2e5c-2210-49cf-cf58-16e7e57a0682"
      },
      "source": [
        "from sklearn.linear_model import LogisticRegression\n",
        "\n",
        "logistic = LogisticRegression()\n",
        "logistic.fit(x_train, y_train)\n",
        "\n",
        "print('학습세트 정확도', logistic.score(x_train, y_train))\n",
        "print('검증세트 정확도', logistic.score(x_val, y_val))"
      ],
      "execution_count": null,
      "outputs": [
        {
          "output_type": "stream",
          "text": [
            "학습세트 정확도 0.7279241071428572\n",
            "검증세트 정확도 0.7311607142857143\n"
          ],
          "name": "stdout"
        },
        {
          "output_type": "stream",
          "text": [
            "C:\\Users\\GIHYEON\\anaconda3\\lib\\site-packages\\sklearn\\linear_model\\_logistic.py:762: ConvergenceWarning: lbfgs failed to converge (status=1):\n",
            "STOP: TOTAL NO. of ITERATIONS REACHED LIMIT.\n",
            "\n",
            "Increase the number of iterations (max_iter) or scale the data as shown in:\n",
            "    https://scikit-learn.org/stable/modules/preprocessing.html\n",
            "Please also refer to the documentation for alternative solver options:\n",
            "    https://scikit-learn.org/stable/modules/linear_model.html#logistic-regression\n",
            "  n_iter_i = _check_optimize_result(\n"
          ],
          "name": "stderr"
        }
      ]
    },
    {
      "cell_type": "markdown",
      "metadata": {
        "id": "O9H4CESNoe9c"
      },
      "source": [
        "- 정확도가 0.731로, 기준 모델보다 훨씬 높게 나왔다.\n",
        "- 그리고 학습세트의 정확도가 검증세트보다 오히려 낮게 나왔다."
      ]
    },
    {
      "cell_type": "markdown",
      "metadata": {
        "id": "0E-H3G3Hoe9c"
      },
      "source": [
        "### 5) 데이터에서 범주형 성질을 지닌 특성을 찾아 원핫인코딩 하세요"
      ]
    },
    {
      "cell_type": "markdown",
      "metadata": {
        "id": "9bKNPPi3oe9c"
      },
      "source": [
        "- 범주형 성질을 지닌 특성은 음주여부(alco), 흡연여부(smoke), 성별(gender)등 많지만, 그 자체로 이미 원핫인코딩이 되어 있는거라고 볼 수 있다.\n",
        "- 이런 경우, 오히려 하지 않는 것이 더 좋을 수 있다.\n",
        "- 따라서 한 가지 feature만 골라서 원핫인코딩으로 바꿔보기만 하려고 한다."
      ]
    },
    {
      "cell_type": "code",
      "metadata": {
        "id": "ka_p6ONKoe9d"
      },
      "source": [
        "from category_encoders import OneHotEncoder"
      ],
      "execution_count": null,
      "outputs": []
    },
    {
      "cell_type": "code",
      "metadata": {
        "id": "SPflTfkpoe9d"
      },
      "source": [
        "def tran_g(x):\n",
        "    if x == 1:\n",
        "        return 'a'\n",
        "    else:\n",
        "        return 'n'\n",
        "\n",
        "x_train['active'] = x_train['active'].apply(tran_g)\n",
        "x_val['active'] = x_val['active'].apply(tran_g)\n",
        "x_test['active'] = x_test['active'].apply(tran_g)"
      ],
      "execution_count": null,
      "outputs": []
    },
    {
      "cell_type": "code",
      "metadata": {
        "id": "X16ISm_toe9d",
        "outputId": "d1e0e012-3b9a-4312-8cb3-da391b4fa32a"
      },
      "source": [
        "encoder = OneHotEncoder(use_cat_names=True)\n",
        "x_train_en = encoder.fit_transform(x_train)\n",
        "x_val_en = encoder.transform(x_val)\n",
        "x_test_en = encoder.transform(x_test)\n",
        "x_train_en.head()"
      ],
      "execution_count": null,
      "outputs": [
        {
          "output_type": "execute_result",
          "data": {
            "text/html": [
              "<div>\n",
              "<style scoped>\n",
              "    .dataframe tbody tr th:only-of-type {\n",
              "        vertical-align: middle;\n",
              "    }\n",
              "\n",
              "    .dataframe tbody tr th {\n",
              "        vertical-align: top;\n",
              "    }\n",
              "\n",
              "    .dataframe thead th {\n",
              "        text-align: right;\n",
              "    }\n",
              "</style>\n",
              "<table border=\"1\" class=\"dataframe\">\n",
              "  <thead>\n",
              "    <tr style=\"text-align: right;\">\n",
              "      <th></th>\n",
              "      <th>age</th>\n",
              "      <th>weight</th>\n",
              "      <th>ap_hi</th>\n",
              "      <th>ap_lo</th>\n",
              "      <th>cholesterol</th>\n",
              "      <th>gluc</th>\n",
              "      <th>active_a</th>\n",
              "      <th>active_n</th>\n",
              "    </tr>\n",
              "  </thead>\n",
              "  <tbody>\n",
              "    <tr>\n",
              "      <th>59398</th>\n",
              "      <td>62</td>\n",
              "      <td>63.0</td>\n",
              "      <td>2</td>\n",
              "      <td>2</td>\n",
              "      <td>1</td>\n",
              "      <td>1</td>\n",
              "      <td>1</td>\n",
              "      <td>0</td>\n",
              "    </tr>\n",
              "    <tr>\n",
              "      <th>63604</th>\n",
              "      <td>53</td>\n",
              "      <td>50.0</td>\n",
              "      <td>1</td>\n",
              "      <td>1</td>\n",
              "      <td>1</td>\n",
              "      <td>1</td>\n",
              "      <td>1</td>\n",
              "      <td>0</td>\n",
              "    </tr>\n",
              "    <tr>\n",
              "      <th>2165</th>\n",
              "      <td>55</td>\n",
              "      <td>110.0</td>\n",
              "      <td>4</td>\n",
              "      <td>2</td>\n",
              "      <td>3</td>\n",
              "      <td>3</td>\n",
              "      <td>1</td>\n",
              "      <td>0</td>\n",
              "    </tr>\n",
              "    <tr>\n",
              "      <th>63993</th>\n",
              "      <td>53</td>\n",
              "      <td>119.0</td>\n",
              "      <td>4</td>\n",
              "      <td>3</td>\n",
              "      <td>3</td>\n",
              "      <td>3</td>\n",
              "      <td>1</td>\n",
              "      <td>0</td>\n",
              "    </tr>\n",
              "    <tr>\n",
              "      <th>20965</th>\n",
              "      <td>57</td>\n",
              "      <td>65.0</td>\n",
              "      <td>1</td>\n",
              "      <td>2</td>\n",
              "      <td>1</td>\n",
              "      <td>1</td>\n",
              "      <td>1</td>\n",
              "      <td>0</td>\n",
              "    </tr>\n",
              "  </tbody>\n",
              "</table>\n",
              "</div>"
            ],
            "text/plain": [
              "       age  weight  ap_hi  ap_lo  cholesterol  gluc  active_a  active_n\n",
              "59398   62    63.0      2      2            1     1         1         0\n",
              "63604   53    50.0      1      1            1     1         1         0\n",
              "2165    55   110.0      4      2            3     3         1         0\n",
              "63993   53   119.0      4      3            3     3         1         0\n",
              "20965   57    65.0      1      2            1     1         1         0"
            ]
          },
          "metadata": {
            "tags": []
          },
          "execution_count": 59
        }
      ]
    },
    {
      "cell_type": "markdown",
      "metadata": {
        "id": "SqviuDmQoe9e"
      },
      "source": [
        "### 6) [feature scaling](https://scikit-learn.org/stable/modules/preprocessing.html) 을 진행하세요 (여러가지 종류의 Scalar를 어떤 상황에 적용해야 하는지 알아보고 사용해 보세요)"
      ]
    },
    {
      "cell_type": "code",
      "metadata": {
        "id": "ipfx3p7voe9f"
      },
      "source": [
        "from sklearn.preprocessing import StandardScaler\n",
        "\n",
        "scaler = StandardScaler()\n",
        "\n",
        "x_train_scaled = scaler.fit_transform(x_train_en)\n",
        "x_val_scaled = scaler.transform(x_val_en)\n",
        "x_test_scaled = scaler.transform(x_test_en)"
      ],
      "execution_count": null,
      "outputs": []
    },
    {
      "cell_type": "code",
      "metadata": {
        "id": "zGbzHAj-oe9f"
      },
      "source": [
        ""
      ],
      "execution_count": null,
      "outputs": []
    },
    {
      "cell_type": "code",
      "metadata": {
        "id": "4jF8huqXoe9g"
      },
      "source": [
        ""
      ],
      "execution_count": null,
      "outputs": []
    },
    {
      "cell_type": "code",
      "metadata": {
        "id": "3C9C09Jvoe9g"
      },
      "source": [
        ""
      ],
      "execution_count": null,
      "outputs": []
    },
    {
      "cell_type": "markdown",
      "metadata": {
        "id": "KSZ8fW_Eoe9g"
      },
      "source": [
        "### 7) 검증세트에서 정확도를 확인해 보세요"
      ]
    },
    {
      "cell_type": "code",
      "metadata": {
        "id": "RE8-mueOoe9g"
      },
      "source": [
        ""
      ],
      "execution_count": null,
      "outputs": []
    },
    {
      "cell_type": "markdown",
      "metadata": {
        "id": "jRNs0MgRoe9h"
      },
      "source": [
        "### 8) 학습한 모델을 검증세트에서 최적화 시킨 후, 테스트세트에서 딱 한 번 정확도를 확인해 보세요"
      ]
    },
    {
      "cell_type": "code",
      "metadata": {
        "id": "w0FJ_pJBoe9h"
      },
      "source": [
        ""
      ],
      "execution_count": null,
      "outputs": []
    },
    {
      "cell_type": "markdown",
      "metadata": {
        "id": "mEU-zC2xoe9i"
      },
      "source": [
        "## 🔥 도전과제:"
      ]
    },
    {
      "cell_type": "markdown",
      "metadata": {
        "id": "a6CUpjo5oe9i"
      },
      "source": [
        "### 9) 로지스틱회귀모델의 계수(coeffients)를 해석하는 방법에 대해서 예제를 들어 논하세요."
      ]
    },
    {
      "cell_type": "markdown",
      "metadata": {
        "id": "fGnmmpqpoe9j"
      },
      "source": [
        ""
      ]
    }
  ]
}